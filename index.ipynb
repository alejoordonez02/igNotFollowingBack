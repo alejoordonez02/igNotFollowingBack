{
 "cells": [
  {
   "cell_type": "markdown",
   "metadata": {},
   "source": [
    "Run the following code in console, place the file in this folder and run all"
   ]
  },
  {
   "cell_type": "markdown",
   "metadata": {},
   "source": [
    "```javascript\n",
    "function getCookie(b){let c=`; ${document.cookie}`,a=c.split(`; ${b}=`);if(2===a.length)return a.pop().split(\";\").shift()}function sleep(a){return new Promise(b=>{setTimeout(b,a)})}function afterUrlGenerator(a){return`https://www.instagram.com/graphql/query/?query_hash=3dec7e2c57367ef3da3d987d89f9dbc8&variables={\"id\":\"${ds_user_id}\",\"include_reel\":\"true\",\"fetch_mutual\":\"false\",\"first\":\"24\",\"after\":\"${a}\"}`}function unfollowUserUrlGenerator(a){return`https://www.instagram.com/web/friendships/${a}/unfollow/`}let followedPeople,csrftoken=getCookie(\"csrftoken\"),ds_user_id=getCookie(\"ds_user_id\"),initialURL=`https://www.instagram.com/graphql/query/?query_hash=3dec7e2c57367ef3da3d987d89f9dbc8&variables={\"id\":\"${ds_user_id}\",\"include_reel\":\"true\",\"fetch_mutual\":\"false\",\"first\":\"24\"}`,doNext=!0,filteredList=[],getUnfollowCounter=0,scrollCicle=0;async function startScript(){for(var c,d,e,b,f,g=Math.floor;doNext;){let a;try{a=await fetch(initialURL).then(a=>a.json())}catch(h){continue}followedPeople||(followedPeople=a.data.user.edge_follow.count),doNext=a.data.user.edge_follow.page_info.has_next_page,initialURL=afterUrlGenerator(a.data.user.edge_follow.page_info.end_cursor),getUnfollowCounter+=a.data.user.edge_follow.edges.length,a.data.user.edge_follow.edges.forEach(a=>{a.node.follows_viewer||filteredList.push(a.node)}),console.clear(),console.log(`%c Progress ${getUnfollowCounter}/${followedPeople} (${parseInt(100*(getUnfollowCounter/followedPeople))}%)`,\"background: #222; color: #bada55;font-size: 35px;\"),console.log(\"%c This users don't follow you (Still in progress)\",\"background: #222; color: #FC4119;font-size: 13px;\"),filteredList.forEach(a=>{console.log(a.username)}),await sleep(g(400*Math.random())+1e3),scrollCicle++,6<scrollCicle&&(scrollCicle=0,console.log(\"%c Sleeping 10 secs to prevent getting temp blocked\",\"background: #222; color: ##FF0000;font-size: 35px;\"),await sleep(1e4))}c=JSON.stringify(filteredList),d=\"usersNotFollowingBack.json\",e=\"application/json\",b=document.createElement(\"a\"),f=new Blob([c],{type:e}),b.href=URL.createObjectURL(f),b.download=d,b.click(),console.log(\"%c All DONE!\",\"background: #222; color: #bada55;font-size: 25px;\")}startScript()\n",
    "```"
   ]
  },
  {
   "cell_type": "code",
   "execution_count": 9,
   "metadata": {},
   "outputs": [
    {
     "name": "stdout",
     "output_type": "stream",
     "text": [
      "5 not following you back: ['caropagni', 'nazaesmoris', 'milagrostt_', 'lolabenitezb_', 'delfinadominioni.m']\n",
      "just ENTER for next user, input anything else to quit\n",
      "done!\n"
     ]
    }
   ],
   "source": [
    "import json\n",
    "import webbrowser\n",
    "with open('usersNotFollowingBack.json') as f:\n",
    "  users = json.load(f)\n",
    "print(len(users), 'not following you back:', [user['username'] for user in users])\n",
    "print('just ENTER for next user, input anything else to quit')\n",
    "for user in users:\n",
    "    i = input()\n",
    "    if i != '':\n",
    "        break\n",
    "    username = user['username']\n",
    "    print('username:', username)\n",
    "    webbrowser.open('https://www.instagram.com/' + username)\n",
    "print('done!')"
   ]
  }
 ],
 "metadata": {
  "kernelspec": {
   "display_name": "Python 3",
   "language": "python",
   "name": "python3"
  },
  "language_info": {
   "codemirror_mode": {
    "name": "ipython",
    "version": 3
   },
   "file_extension": ".py",
   "mimetype": "text/x-python",
   "name": "python",
   "nbconvert_exporter": "python",
   "pygments_lexer": "ipython3",
   "version": "3.10.12"
  }
 },
 "nbformat": 4,
 "nbformat_minor": 2
}
